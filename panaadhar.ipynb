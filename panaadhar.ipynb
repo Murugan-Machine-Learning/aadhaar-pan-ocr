{
 "cells": [
  {
   "cell_type": "code",
   "execution_count": null,
   "id": "fccaa3f2",
   "metadata": {},
   "outputs": [],
   "source": [
    "import json\n",
    "import pytesseract\n",
    "import cv2\n",
    "import numpy as np\n",
    "import sys\n",
    "import re\n",
    "import os\n",
    "from PIL import Image\n",
    "import ftfy\n",
    "import pan_read           \n",
    "'''module which we made to read the text of the document'''\n",
    "import aadhaar_read\n",
    "import io"
   ]
  },
  {
   "cell_type": "code",
   "execution_count": null,
   "id": "81df9fc8",
   "metadata": {},
   "outputs": [],
   "source": [
    "aadhaar_read"
   ]
  },
  {
   "cell_type": "code",
   "execution_count": null,
   "id": "a3d90b47",
   "metadata": {},
   "outputs": [],
   "source": [
    "img = cv2.imread(\"image.jpg\", cv2.IMREAD_COLOR)\n",
    "img = cv2.resize(img, None, fx=2, fy=2,interpolation=cv2.INTER_CUBIC)\n",
    "img = cv2.cvtColor(img, cv2.COLOR_BGR2GRAY)\n",
    "var = cv2.Laplacian(img, cv2.CV_64F).var()\n"
   ]
  },
  {
   "cell_type": "code",
   "execution_count": null,
   "id": "88ab2bc9",
   "metadata": {},
   "outputs": [],
   "source": [
    "# ax = img.flatten()\n",
    "# for a in ax:\n",
    "#     a.imshow(img, interpolation='none')\n",
    "# plt.show()\n",
    "cv2.namedWindow(\"AAdhar\", cv2.WINDOW_NORMAL)\n",
    "cv2.imshow('AAdhar', img)\n",
    "cv2.waitKey(0)\n",
    "cv2.destroyAllWindows()\n",
    "if var < 50:\n",
    "    print(\"Image is Too Blurry....\")\n",
    "    k= input('Press Enter to Exit.')\n",
    "    exit(1)\n",
    "\n",
    "print('okay')"
   ]
  },
  {
   "cell_type": "code",
   "execution_count": null,
   "id": "abee959c",
   "metadata": {},
   "outputs": [],
   "source": []
  }
 ],
 "metadata": {
  "kernelspec": {
   "display_name": "Python 3 (ipykernel)",
   "language": "python",
   "name": "python3"
  },
  "language_info": {
   "codemirror_mode": {
    "name": "ipython",
    "version": 3
   },
   "file_extension": ".py",
   "mimetype": "text/x-python",
   "name": "python",
   "nbconvert_exporter": "python",
   "pygments_lexer": "ipython3",
   "version": "3.11.0"
  }
 },
 "nbformat": 4,
 "nbformat_minor": 5
}
